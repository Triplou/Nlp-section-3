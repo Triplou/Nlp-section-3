{
 "cells": [
  {
   "cell_type": "code",
   "execution_count": 22,
   "id": "061f1fd8",
   "metadata": {},
   "outputs": [],
   "source": [
    "import nltk\n",
    "from nltk.tokenize import word_tokenize"
   ]
  },
  {
   "cell_type": "code",
   "execution_count": 4,
   "id": "2e05f4a9",
   "metadata": {},
   "outputs": [],
   "source": [
    "import snowballstemmer as s"
   ]
  },
  {
   "cell_type": "code",
   "execution_count": 51,
   "id": "929cca85",
   "metadata": {},
   "outputs": [],
   "source": [
    "sentence=[]"
   ]
  },
  {
   "cell_type": "code",
   "execution_count": 52,
   "id": "94c62e27",
   "metadata": {},
   "outputs": [
    {
     "name": "stdout",
     "output_type": "stream",
     "text": [
      "kanad\n",
      "išsidėsči\n",
      "šiaur\n",
      "amerik\n",
      "žemyn\n",
      "šiaur\n",
      ",\n",
      "tarp\n",
      "ram\n",
      "vandenyn\n",
      "vakar\n",
      ",\n",
      "atlant\n",
      "ryt\n",
      "ir\n",
      "arkties\n",
      "šiaur\n",
      ".\n",
      "tai\n",
      "antr\n",
      "pagal\n",
      "dyd\n",
      "pasaul\n",
      "valstyb\n",
      ",\n",
      "dyd\n",
      "nusileidžian\n",
      "tik\n",
      "rusij\n",
      ".\n"
     ]
    }
   ],
   "source": [
    "text=\"Kanada išsidėsčiusi Šiaurės Amerikos žemyno šiaurėje, tarp Ramiojo vandenyno vakaruose, Atlanto rytuose ir Arkties šiaurėje. Tai antra pagal dydį pasaulio valstybė, dydžiu nusileidžianti tik Rusijai.\"\n",
    "tokens=word_tokenize(text.lower())\n",
    "for i in tokens:\n",
    "    stem=s.LithuanianStemmer()\n",
    "    stemmed=stem.stemWord(i)\n",
    "    print(stemmed)\n",
    "    sentence.append(stemmed)\n"
   ]
  },
  {
   "cell_type": "code",
   "execution_count": 53,
   "id": "9c4a6e16",
   "metadata": {},
   "outputs": [
    {
     "data": {
      "text/plain": [
       "['kanad',\n",
       " 'išsidėsči',\n",
       " 'šiaur',\n",
       " 'amerik',\n",
       " 'žemyn',\n",
       " 'šiaur',\n",
       " ',',\n",
       " 'tarp',\n",
       " 'ram',\n",
       " 'vandenyn',\n",
       " 'vakar',\n",
       " ',',\n",
       " 'atlant',\n",
       " 'ryt',\n",
       " 'ir',\n",
       " 'arkties',\n",
       " 'šiaur',\n",
       " '.',\n",
       " 'tai',\n",
       " 'antr',\n",
       " 'pagal',\n",
       " 'dyd',\n",
       " 'pasaul',\n",
       " 'valstyb',\n",
       " ',',\n",
       " 'dyd',\n",
       " 'nusileidžian',\n",
       " 'tik',\n",
       " 'rusij',\n",
       " '.']"
      ]
     },
     "execution_count": 53,
     "metadata": {},
     "output_type": "execute_result"
    }
   ],
   "source": [
    "sentence"
   ]
  },
  {
   "cell_type": "code",
   "execution_count": null,
   "id": "e7682138",
   "metadata": {},
   "outputs": [],
   "source": []
  },
  {
   "cell_type": "code",
   "execution_count": null,
   "id": "c8560cf3",
   "metadata": {},
   "outputs": [],
   "source": []
  }
 ],
 "metadata": {
  "kernelspec": {
   "display_name": "Python 3 (ipykernel)",
   "language": "python",
   "name": "python3"
  },
  "language_info": {
   "codemirror_mode": {
    "name": "ipython",
    "version": 3
   },
   "file_extension": ".py",
   "mimetype": "text/x-python",
   "name": "python",
   "nbconvert_exporter": "python",
   "pygments_lexer": "ipython3",
   "version": "3.9.7"
  }
 },
 "nbformat": 4,
 "nbformat_minor": 5
}
